{
  "nbformat": 4,
  "nbformat_minor": 0,
  "metadata": {
    "colab": {
      "provenance": [],
      "toc_visible": true,
      "authorship_tag": "ABX9TyN0+RzxvqH1qylB9otImvdv",
      "include_colab_link": true
    },
    "kernelspec": {
      "name": "python3",
      "display_name": "Python 3"
    },
    "language_info": {
      "name": "python"
    }
  },
  "cells": [
    {
      "cell_type": "markdown",
      "metadata": {
        "id": "view-in-github",
        "colab_type": "text"
      },
      "source": [
        "<a href=\"https://colab.research.google.com/github/nana-lyj/sentiment-polarity/blob/main/heatmap.ipynb\" target=\"_parent\"><img src=\"https://colab.research.google.com/assets/colab-badge.svg\" alt=\"Open In Colab\"/></a>"
      ]
    },
    {
      "cell_type": "code",
      "execution_count": null,
      "metadata": {
        "id": "AZm8EhpX3VHG"
      },
      "outputs": [],
      "source": [
        "import pandas as pd\n",
        "import seaborn as sns\n",
        "import matplotlib.pyplot as plt\n",
        "from sklearn.cluster import KMeans\n"
      ]
    },
    {
      "cell_type": "code",
      "source": [
        "# Load the data from a CSV file (change the file path to match your own data)\n",
        "data = pd.read_csv('https://raw.githubusercontent.com/nana-lyj/sentiment/main/STHEATMAP.tsv', sep='\\t')"
      ],
      "metadata": {
        "id": "R8lBgoyE3WBv"
      },
      "execution_count": null,
      "outputs": []
    },
    {
      "cell_type": "code",
      "source": [
        "# Create a pivot table with the sentiment scores for each sentence\n",
        "pivot_table = data.pivot_table(values=['positive', 'neutral', 'negative'], index='sentence')"
      ],
      "metadata": {
        "id": "4ErpjHRX3aHu"
      },
      "execution_count": null,
      "outputs": []
    },
    {
      "cell_type": "code",
      "source": [
        "# Normalize the sentiment scores to a range of 0 to 1\n",
        "normalized_table = (pivot_table - pivot_table.min()) / (pivot_table.max() - pivot_table.min())"
      ],
      "metadata": {
        "id": "ywYJD5-L3fP9"
      },
      "execution_count": null,
      "outputs": []
    },
    {
      "cell_type": "code",
      "source": [
        "# Convert the pivot table to a NumPy array for clustering\n",
        "X = pivot_table.values\n",
        "\n",
        "# Perform k-means clustering with 50 clusters\n",
        "kmeans = KMeans(n_clusters=20)\n",
        "kmeans.fit(X)\n",
        "\n",
        "# Get the cluster assignments for each row\n",
        "labels = kmeans.labels_\n",
        "\n",
        "# Add the cluster assignments to the pivot table as a new column\n",
        "pivot_table['Cluster'] = labels\n",
        "\n",
        "# Create a pivot table with the mean sentiment scores for each cluster\n",
        "cluster_means = pivot_table.pivot_table(values=['positive', 'neutral', 'negative'], index='Cluster', aggfunc='mean')\n",
        "\n",
        "# Normalize the sentiment scores to a range of 0 to 1\n",
        "normalized_means = (cluster_means - cluster_means.min()) / (cluster_means.max() - cluster_means.min())\n",
        "\n",
        "# Create a heatmap using Seaborn\n",
        "sns.heatmap(normalized_means, cmap='RdBu', center=0)\n"
      ],
      "metadata": {
        "id": "_GoKFK2d3m1M"
      },
      "execution_count": null,
      "outputs": []
    },
    {
      "cell_type": "code",
      "source": [
        "# Set the plot title and axis labels\n",
        "plt.title('Sentiment Scores Heatmap (K-Means Clustering, 20 Clusters)')\n",
        "plt.xlabel('Sentiment Category')\n",
        "plt.ylabel('Cluster')\n",
        "\n",
        "# Show the plot\n",
        "plt.show()"
      ],
      "metadata": {
        "id": "fmPKySsN4t4e"
      },
      "execution_count": null,
      "outputs": []
    }
  ]
}